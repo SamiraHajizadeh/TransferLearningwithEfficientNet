{
  "nbformat": 4,
  "nbformat_minor": 0,
  "metadata": {
    "colab": {
      "provenance": []
    },
    "kernelspec": {
      "name": "python3",
      "display_name": "Python 3"
    },
    "language_info": {
      "name": "python"
    },
    "gpuClass": "standard",
    "accelerator": "GPU"
  },
  "cells": [
    {
      "cell_type": "code",
      "execution_count": 1,
      "metadata": {
        "id": "5vpJL1Hd4amk"
      },
      "outputs": [],
      "source": [
        "from tensorflow.keras.applications import EfficientNetB0\n",
        "import tensorflow as tf\n",
        "import numpy as np\n",
        "import os\n",
        "from keras.utils import to_categorical\n",
        "import matplotlib.pyplot as plt\n",
        "from sklearn.model_selection import train_test_split"
      ]
    },
    {
      "cell_type": "code",
      "source": [
        "####### Question 3 - Part 2\n",
        "\n",
        "model = EfficientNetB0(weights=\"imagenet\")\n",
        "image = tf.keras.preprocessing.image.load_img('/content/Picture.jpg',  grayscale=False, color_mode=\"rgb\", target_size=(224, 224))\n",
        "input_arr = tf.keras.preprocessing.image.img_to_array(image)\n",
        "input_arr = np.array([input_arr])\n",
        "predictions = model.predict(input_arr)\n",
        "print(np.argsort(predictions)[0][::-1][0:3])"
      ],
      "metadata": {
        "colab": {
          "base_uri": "https://localhost:8080/"
        },
        "id": "ZKd-vV3wW_sq",
        "outputId": "7bc7c684-1fff-4f7f-f5dd-75c8e12cc765"
      },
      "execution_count": null,
      "outputs": [
        {
          "output_type": "stream",
          "name": "stdout",
          "text": [
            "Downloading data from https://storage.googleapis.com/keras-applications/efficientnetb0.h5\n",
            "21834768/21834768 [==============================] - 0s 0us/step\n",
            "1/1 [==============================] - 2s 2s/step\n",
            "[710 481 844]\n"
          ]
        }
      ]
    },
    {
      "cell_type": "code",
      "source": [
        "####### Question 3 - Part 3\n",
        "\n",
        "def load_image(path, target_size_tuple):\n",
        "  image = tf.keras.preprocessing.image.load_img(path, grayscale=False, color_mode=\"rgb\", target_size=target_size_tuple)\n",
        "  input_arr = tf.keras.preprocessing.image.img_to_array(image)\n",
        "  return input_arr\n",
        "\n",
        "train_path = '/content/data/train'\n",
        "test_path = '/content/data/test'\n",
        "\n",
        "x_train = np.array([load_image(os.path.join(train_path, img_name), (224, 224)) for img_name in os.listdir(train_path)])\n",
        "x_test = np.array([load_image(os.path.join(test_path, img_name), (224, 224)) for img_name in os.listdir(test_path)])\n",
        "\n",
        "results = np.argmax(model.predict(x_test), axis=0).tolist()\n",
        "print('the most predicted label is:', max(set(results), key=results.count))"
      ],
      "metadata": {
        "colab": {
          "base_uri": "https://localhost:8080/"
        },
        "id": "v3oc-LwGhZWW",
        "outputId": "c3be24cb-156d-4b2c-8eee-53174c058568"
      },
      "execution_count": null,
      "outputs": [
        {
          "output_type": "stream",
          "name": "stdout",
          "text": [
            "1/1 [==============================] - 2s 2s/step\n",
            "the most predicted label is: 14\n"
          ]
        }
      ]
    },
    {
      "cell_type": "code",
      "source": [
        "model = EfficientNetB0(weights=\"imagenet\")\n",
        "model.trainable = True\n",
        "model.compile(optimizer=tf.keras.optimizers.Adam(1e-5), loss=\"categorical_crossentropy\", metrics=['accuracy'])\n",
        "\n",
        "y_train = to_categorical(np.ones((len(x_train), 1))* 327, num_classes=1000)\n",
        "y_test = to_categorical(np.ones((len(x_test), 1))* 327, num_classes=1000)\n",
        "\n",
        "history = model.fit(x_train, y_train, epochs=40, validation_data = (x_test, y_test), batch_size=25)"
      ],
      "metadata": {
        "colab": {
          "base_uri": "https://localhost:8080/"
        },
        "id": "Ag9E5L3ZnmAP",
        "outputId": "c45aca4d-dcf5-4275-a50a-27d2a2985e72"
      },
      "execution_count": null,
      "outputs": [
        {
          "output_type": "stream",
          "name": "stdout",
          "text": [
            "Epoch 1/40\n",
            "2/2 [==============================] - 28s 10s/step - loss: 7.4802 - accuracy: 0.0000e+00 - val_loss: 6.8508 - val_accuracy: 0.0000e+00\n",
            "Epoch 2/40\n",
            "2/2 [==============================] - 15s 8s/step - loss: 7.4627 - accuracy: 0.0000e+00 - val_loss: 6.7843 - val_accuracy: 0.0000e+00\n",
            "Epoch 3/40\n",
            "2/2 [==============================] - 15s 8s/step - loss: 7.4505 - accuracy: 0.0000e+00 - val_loss: 6.7228 - val_accuracy: 0.0455\n",
            "Epoch 4/40\n",
            "2/2 [==============================] - 15s 8s/step - loss: 7.3159 - accuracy: 0.0000e+00 - val_loss: 6.6626 - val_accuracy: 0.0455\n",
            "Epoch 5/40\n",
            "2/2 [==============================] - 17s 10s/step - loss: 7.3480 - accuracy: 0.0000e+00 - val_loss: 6.6028 - val_accuracy: 0.0455\n",
            "Epoch 6/40\n",
            "2/2 [==============================] - 15s 8s/step - loss: 7.3814 - accuracy: 0.0000e+00 - val_loss: 6.5475 - val_accuracy: 0.0455\n",
            "Epoch 7/40\n",
            "2/2 [==============================] - 15s 8s/step - loss: 7.3091 - accuracy: 0.0000e+00 - val_loss: 6.4899 - val_accuracy: 0.0455\n",
            "Epoch 8/40\n",
            "2/2 [==============================] - 15s 8s/step - loss: 7.2213 - accuracy: 0.0000e+00 - val_loss: 6.4326 - val_accuracy: 0.0455\n",
            "Epoch 9/40\n",
            "2/2 [==============================] - 15s 8s/step - loss: 7.1308 - accuracy: 0.0000e+00 - val_loss: 6.3762 - val_accuracy: 0.0455\n",
            "Epoch 10/40\n",
            "2/2 [==============================] - 15s 8s/step - loss: 7.0215 - accuracy: 0.0000e+00 - val_loss: 6.3227 - val_accuracy: 0.0455\n",
            "Epoch 11/40\n",
            "2/2 [==============================] - 15s 8s/step - loss: 6.9823 - accuracy: 0.0000e+00 - val_loss: 6.2705 - val_accuracy: 0.0455\n",
            "Epoch 12/40\n",
            "2/2 [==============================] - 15s 8s/step - loss: 7.0065 - accuracy: 0.0000e+00 - val_loss: 6.2166 - val_accuracy: 0.0455\n",
            "Epoch 13/40\n",
            "2/2 [==============================] - 15s 8s/step - loss: 6.9933 - accuracy: 0.0000e+00 - val_loss: 6.1664 - val_accuracy: 0.0455\n",
            "Epoch 14/40\n",
            "2/2 [==============================] - 15s 8s/step - loss: 6.9745 - accuracy: 0.0000e+00 - val_loss: 6.1149 - val_accuracy: 0.0455\n",
            "Epoch 15/40\n",
            "2/2 [==============================] - 15s 8s/step - loss: 6.8029 - accuracy: 0.0200 - val_loss: 6.0688 - val_accuracy: 0.0455\n",
            "Epoch 16/40\n",
            "2/2 [==============================] - 17s 10s/step - loss: 6.8201 - accuracy: 0.0000e+00 - val_loss: 6.0154 - val_accuracy: 0.0455\n",
            "Epoch 17/40\n",
            "2/2 [==============================] - 15s 8s/step - loss: 6.7399 - accuracy: 0.0000e+00 - val_loss: 5.9639 - val_accuracy: 0.0455\n",
            "Epoch 18/40\n",
            "2/2 [==============================] - 15s 8s/step - loss: 6.8159 - accuracy: 0.0000e+00 - val_loss: 5.9114 - val_accuracy: 0.0455\n",
            "Epoch 19/40\n",
            "2/2 [==============================] - 15s 8s/step - loss: 6.8058 - accuracy: 0.0200 - val_loss: 5.8595 - val_accuracy: 0.0455\n",
            "Epoch 20/40\n",
            "2/2 [==============================] - 15s 8s/step - loss: 6.5702 - accuracy: 0.0200 - val_loss: 5.8112 - val_accuracy: 0.0909\n",
            "Epoch 21/40\n",
            "2/2 [==============================] - 15s 8s/step - loss: 6.5665 - accuracy: 0.0000e+00 - val_loss: 5.7606 - val_accuracy: 0.0909\n",
            "Epoch 22/40\n",
            "2/2 [==============================] - 15s 8s/step - loss: 6.5521 - accuracy: 0.0000e+00 - val_loss: 5.7118 - val_accuracy: 0.0909\n",
            "Epoch 23/40\n",
            "2/2 [==============================] - 15s 8s/step - loss: 6.5056 - accuracy: 0.0000e+00 - val_loss: 5.6607 - val_accuracy: 0.0909\n",
            "Epoch 24/40\n",
            "2/2 [==============================] - 15s 8s/step - loss: 6.4802 - accuracy: 0.0000e+00 - val_loss: 5.6112 - val_accuracy: 0.0909\n",
            "Epoch 25/40\n",
            "2/2 [==============================] - 15s 8s/step - loss: 6.3569 - accuracy: 0.0000e+00 - val_loss: 5.5624 - val_accuracy: 0.0909\n",
            "Epoch 26/40\n",
            "2/2 [==============================] - 15s 8s/step - loss: 6.3612 - accuracy: 0.0000e+00 - val_loss: 5.5121 - val_accuracy: 0.0909\n",
            "Epoch 27/40\n",
            "2/2 [==============================] - 15s 8s/step - loss: 6.3183 - accuracy: 0.0000e+00 - val_loss: 5.4679 - val_accuracy: 0.1364\n",
            "Epoch 28/40\n",
            "2/2 [==============================] - 15s 8s/step - loss: 6.2616 - accuracy: 0.0400 - val_loss: 5.4196 - val_accuracy: 0.1364\n",
            "Epoch 29/40\n",
            "2/2 [==============================] - 15s 8s/step - loss: 6.1667 - accuracy: 0.0200 - val_loss: 5.3728 - val_accuracy: 0.1364\n",
            "Epoch 30/40\n",
            "2/2 [==============================] - 15s 8s/step - loss: 6.0925 - accuracy: 0.0400 - val_loss: 5.3259 - val_accuracy: 0.1364\n",
            "Epoch 31/40\n",
            "2/2 [==============================] - 15s 8s/step - loss: 6.0958 - accuracy: 0.0400 - val_loss: 5.2770 - val_accuracy: 0.1364\n",
            "Epoch 32/40\n",
            "2/2 [==============================] - 15s 8s/step - loss: 6.1133 - accuracy: 0.0400 - val_loss: 5.2293 - val_accuracy: 0.1364\n",
            "Epoch 33/40\n",
            "2/2 [==============================] - 15s 8s/step - loss: 6.0937 - accuracy: 0.0400 - val_loss: 5.1837 - val_accuracy: 0.1364\n",
            "Epoch 34/40\n",
            "2/2 [==============================] - 15s 8s/step - loss: 5.9490 - accuracy: 0.0200 - val_loss: 5.1339 - val_accuracy: 0.1364\n",
            "Epoch 35/40\n",
            "2/2 [==============================] - 17s 10s/step - loss: 5.9435 - accuracy: 0.0400 - val_loss: 5.0873 - val_accuracy: 0.1364\n",
            "Epoch 36/40\n",
            "2/2 [==============================] - 16s 9s/step - loss: 5.9831 - accuracy: 0.0800 - val_loss: 5.0411 - val_accuracy: 0.1364\n",
            "Epoch 37/40\n",
            "2/2 [==============================] - 15s 8s/step - loss: 5.8387 - accuracy: 0.0400 - val_loss: 4.9943 - val_accuracy: 0.1364\n",
            "Epoch 38/40\n",
            "2/2 [==============================] - 15s 8s/step - loss: 5.8978 - accuracy: 0.0600 - val_loss: 4.9479 - val_accuracy: 0.1364\n",
            "Epoch 39/40\n",
            "2/2 [==============================] - 15s 8s/step - loss: 5.7925 - accuracy: 0.0600 - val_loss: 4.8988 - val_accuracy: 0.1364\n",
            "Epoch 40/40\n",
            "2/2 [==============================] - 15s 8s/step - loss: 5.5825 - accuracy: 0.1000 - val_loss: 4.8548 - val_accuracy: 0.1364\n"
          ]
        }
      ]
    },
    {
      "cell_type": "code",
      "source": [
        "def plot_hist(hist):\n",
        "\n",
        "    plt.plot(hist.history[\"accuracy\"])\n",
        "    plt.plot(hist.history[\"val_accuracy\"])\n",
        "    plt.title(\"model accuracy\")\n",
        "    plt.ylabel(\"accuracy\")\n",
        "    plt.xlabel(\"epoch\")\n",
        "    plt.legend([\"train\", \"validation\"], loc=\"upper left\")\n",
        "\n",
        "    plt.show()\n",
        "\n",
        "    plt.plot(hist.history[\"loss\"])\n",
        "    plt.plot(hist.history[\"val_loss\"])\n",
        "    plt.title(\"model loss\")\n",
        "    plt.ylabel(\"loss\")\n",
        "    plt.xlabel(\"epoch\")\n",
        "    plt.legend([\"train\", \"validation\"], loc=\"upper left\")\n",
        "\n",
        "    plt.show()"
      ],
      "metadata": {
        "id": "4v3om4iDKlVP"
      },
      "execution_count": 2,
      "outputs": []
    },
    {
      "cell_type": "code",
      "source": [
        "plot_hist(history)"
      ],
      "metadata": {
        "id": "HPPf6intDZ2B",
        "colab": {
          "base_uri": "https://localhost:8080/",
          "height": 573
        },
        "outputId": "2220acfa-d733-4874-a6b6-ca2f4f48cf36"
      },
      "execution_count": null,
      "outputs": [
        {
          "output_type": "display_data",
          "data": {
            "text/plain": [
              "<Figure size 432x288 with 1 Axes>"
            ],
            "image/png": "[encoded data removed]"
          },
          "metadata": {
            "needs_background": "light"
          }
        },
        {
          "output_type": "display_data",
          "data": {
            "text/plain": [
              "<Figure size 432x288 with 1 Axes>"
            ],
            "image/png": "[encoded data removed]"
          },
          "metadata": {
            "needs_background": "light"
          }
        }
      ]
    },
    {
      "cell_type": "code",
      "source": [
        "def load_image(path, target_size_tuple):\n",
        "  image = tf.keras.preprocessing.image.load_img(path, grayscale=False, color_mode=\"rgb\", target_size=target_size_tuple)\n",
        "  input_arr = tf.keras.preprocessing.image.img_to_array(image)\n",
        "  return input_arr\n"
      ],
      "metadata": {
        "id": "-fdTY2I7Gg9M"
      },
      "execution_count": 3,
      "outputs": []
    },
    {
      "cell_type": "code",
      "source": [
        "####### Question 3 - Part 4\n",
        "\n",
        "ridgeback_path = '/content/new_data/Ridgeback'\n",
        "samoyed_path = '/content/new_data/Samoyed'\n",
        "\n",
        "ridgeback = np.array([load_image(os.path.join(ridgeback_path, img_name), (224, 224)) for img_name in os.listdir(ridgeback_path)])\n",
        "samoyed = np.array([load_image(os.path.join(samoyed_path, img_name), (224, 224)) for img_name in os.listdir(samoyed_path)])\n",
        "\n",
        "y_ridgeback = to_categorical(np.ones((len(ridgeback), 1))* 159, num_classes=1000)\n",
        "y_samoyed = to_categorical(np.ones((len(samoyed), 1))* 258, num_classes=1000)\n",
        "\n",
        "X = np.concatenate((samoyed, ridgeback))\n",
        "Y = np.concatenate((y_samoyed, y_ridgeback))\n",
        "\n",
        "x_train, x_valid, y_train, y_valid = train_test_split(X, Y, test_size=0.2, shuffle= True)\n",
        "\n",
        "model = EfficientNetB0(weights=\"imagenet\")\n",
        "model.trainable = True\n",
        "model.compile(optimizer=tf.keras.optimizers.Adam(1e-5), loss=\"categorical_crossentropy\", metrics=['accuracy'])\n",
        "\n",
        "history = model.fit(x_train, y_train, epochs=100, validation_data=(x_valid, y_valid) , batch_size=64)"
      ],
      "metadata": {
        "colab": {
          "base_uri": "https://localhost:8080/"
        },
        "id": "57vDKZi0PSLX",
        "outputId": "66a71f8f-d988-4430-b283-73d938184ed6"
      },
      "execution_count": 9,
      "outputs": [
        {
          "output_type": "stream",
          "name": "stdout",
          "text": [
            "Epoch 1/100\n",
            "7/7 [==============================] - 13s 778ms/step - loss: 6.0461 - accuracy: 0.0525 - val_loss: 0.7743 - val_accuracy: 0.8500\n",
            "Epoch 2/100\n",
            "7/7 [==============================] - 4s 573ms/step - loss: 5.8264 - accuracy: 0.0775 - val_loss: 0.7993 - val_accuracy: 0.8400\n",
            "Epoch 3/100\n",
            "7/7 [==============================] - 4s 563ms/step - loss: 5.6950 - accuracy: 0.0625 - val_loss: 0.8174 - val_accuracy: 0.8500\n",
            "Epoch 4/100\n",
            "7/7 [==============================] - 4s 556ms/step - loss: 5.5983 - accuracy: 0.0875 - val_loss: 0.8294 - val_accuracy: 0.8500\n",
            "Epoch 5/100\n",
            "7/7 [==============================] - 4s 569ms/step - loss: 5.4298 - accuracy: 0.1200 - val_loss: 0.8398 - val_accuracy: 0.8500\n",
            "Epoch 6/100\n",
            "7/7 [==============================] - 4s 553ms/step - loss: 5.3162 - accuracy: 0.1350 - val_loss: 0.8494 - val_accuracy: 0.8400\n",
            "Epoch 7/100\n",
            "7/7 [==============================] - 4s 564ms/step - loss: 5.1848 - accuracy: 0.1500 - val_loss: 0.8614 - val_accuracy: 0.8600\n",
            "Epoch 8/100\n",
            "7/7 [==============================] - 4s 580ms/step - loss: 5.0993 - accuracy: 0.1700 - val_loss: 0.8651 - val_accuracy: 0.8600\n",
            "Epoch 9/100\n",
            "7/7 [==============================] - 4s 571ms/step - loss: 4.8722 - accuracy: 0.1875 - val_loss: 0.8712 - val_accuracy: 0.8600\n",
            "Epoch 10/100\n",
            "7/7 [==============================] - 4s 572ms/step - loss: 4.7514 - accuracy: 0.2050 - val_loss: 0.8749 - val_accuracy: 0.8600\n",
            "Epoch 11/100\n",
            "7/7 [==============================] - 4s 576ms/step - loss: 4.6127 - accuracy: 0.2525 - val_loss: 0.8714 - val_accuracy: 0.8600\n",
            "Epoch 12/100\n",
            "7/7 [==============================] - 4s 557ms/step - loss: 4.5051 - accuracy: 0.2750 - val_loss: 0.8666 - val_accuracy: 0.8700\n",
            "Epoch 13/100\n",
            "7/7 [==============================] - 4s 561ms/step - loss: 4.3076 - accuracy: 0.3125 - val_loss: 0.8622 - val_accuracy: 0.8700\n",
            "Epoch 14/100\n",
            "7/7 [==============================] - 4s 558ms/step - loss: 4.2006 - accuracy: 0.3400 - val_loss: 0.8552 - val_accuracy: 0.8600\n",
            "Epoch 15/100\n",
            "7/7 [==============================] - 4s 564ms/step - loss: 4.0519 - accuracy: 0.3750 - val_loss: 0.8494 - val_accuracy: 0.8500\n",
            "Epoch 16/100\n",
            "7/7 [==============================] - 4s 561ms/step - loss: 3.8823 - accuracy: 0.3975 - val_loss: 0.8416 - val_accuracy: 0.8500\n",
            "Epoch 17/100\n",
            "7/7 [==============================] - 4s 561ms/step - loss: 3.7343 - accuracy: 0.4450 - val_loss: 0.8314 - val_accuracy: 0.8600\n",
            "Epoch 18/100\n",
            "7/7 [==============================] - 4s 568ms/step - loss: 3.6235 - accuracy: 0.4450 - val_loss: 0.8221 - val_accuracy: 0.8700\n",
            "Epoch 19/100\n",
            "7/7 [==============================] - 4s 561ms/step - loss: 3.4991 - accuracy: 0.4700 - val_loss: 0.8129 - val_accuracy: 0.8600\n",
            "Epoch 20/100\n",
            "7/7 [==============================] - 4s 561ms/step - loss: 3.4347 - accuracy: 0.4950 - val_loss: 0.7990 - val_accuracy: 0.8500\n",
            "Epoch 21/100\n",
            "7/7 [==============================] - 4s 573ms/step - loss: 3.2158 - accuracy: 0.5350 - val_loss: 0.7901 - val_accuracy: 0.8500\n",
            "Epoch 22/100\n",
            "7/7 [==============================] - 4s 569ms/step - loss: 3.0885 - accuracy: 0.5450 - val_loss: 0.7752 - val_accuracy: 0.8500\n",
            "Epoch 23/100\n",
            "7/7 [==============================] - 4s 562ms/step - loss: 2.8850 - accuracy: 0.6125 - val_loss: 0.7634 - val_accuracy: 0.8600\n",
            "Epoch 24/100\n",
            "7/7 [==============================] - 4s 564ms/step - loss: 2.8141 - accuracy: 0.6200 - val_loss: 0.7458 - val_accuracy: 0.8600\n",
            "Epoch 25/100\n",
            "7/7 [==============================] - 4s 562ms/step - loss: 2.6821 - accuracy: 0.6275 - val_loss: 0.7314 - val_accuracy: 0.8600\n",
            "Epoch 26/100\n",
            "7/7 [==============================] - 4s 580ms/step - loss: 2.5495 - accuracy: 0.6750 - val_loss: 0.7186 - val_accuracy: 0.8600\n",
            "Epoch 27/100\n",
            "7/7 [==============================] - 4s 568ms/step - loss: 2.4347 - accuracy: 0.6950 - val_loss: 0.7043 - val_accuracy: 0.8600\n",
            "Epoch 28/100\n",
            "7/7 [==============================] - 4s 571ms/step - loss: 2.3549 - accuracy: 0.6900 - val_loss: 0.6895 - val_accuracy: 0.8900\n",
            "Epoch 29/100\n",
            "7/7 [==============================] - 4s 561ms/step - loss: 2.1653 - accuracy: 0.7475 - val_loss: 0.6730 - val_accuracy: 0.8900\n",
            "Epoch 30/100\n",
            "7/7 [==============================] - 4s 569ms/step - loss: 2.0597 - accuracy: 0.7775 - val_loss: 0.6614 - val_accuracy: 0.9100\n",
            "Epoch 31/100\n",
            "7/7 [==============================] - 4s 564ms/step - loss: 2.0158 - accuracy: 0.7475 - val_loss: 0.6455 - val_accuracy: 0.9100\n",
            "Epoch 32/100\n",
            "7/7 [==============================] - 4s 569ms/step - loss: 1.9363 - accuracy: 0.8000 - val_loss: 0.6336 - val_accuracy: 0.9100\n",
            "Epoch 33/100\n",
            "7/7 [==============================] - 4s 560ms/step - loss: 1.7702 - accuracy: 0.8100 - val_loss: 0.6150 - val_accuracy: 0.9100\n",
            "Epoch 34/100\n",
            "7/7 [==============================] - 4s 565ms/step - loss: 1.8030 - accuracy: 0.8175 - val_loss: 0.5908 - val_accuracy: 0.9100\n",
            "Epoch 35/100\n",
            "7/7 [==============================] - 4s 572ms/step - loss: 1.4986 - accuracy: 0.8650 - val_loss: 0.5701 - val_accuracy: 0.9200\n",
            "Epoch 36/100\n",
            "7/7 [==============================] - 4s 563ms/step - loss: 1.4624 - accuracy: 0.8700 - val_loss: 0.5489 - val_accuracy: 0.9400\n",
            "Epoch 37/100\n",
            "7/7 [==============================] - 4s 570ms/step - loss: 1.3819 - accuracy: 0.8950 - val_loss: 0.5325 - val_accuracy: 0.9400\n",
            "Epoch 38/100\n",
            "7/7 [==============================] - 4s 557ms/step - loss: 1.3398 - accuracy: 0.8800 - val_loss: 0.5158 - val_accuracy: 0.9500\n",
            "Epoch 39/100\n",
            "7/7 [==============================] - 4s 565ms/step - loss: 1.2020 - accuracy: 0.9225 - val_loss: 0.5031 - val_accuracy: 0.9600\n",
            "Epoch 40/100\n",
            "7/7 [==============================] - 4s 561ms/step - loss: 1.1499 - accuracy: 0.9100 - val_loss: 0.4890 - val_accuracy: 0.9600\n",
            "Epoch 41/100\n",
            "7/7 [==============================] - 4s 556ms/step - loss: 1.0340 - accuracy: 0.9400 - val_loss: 0.4755 - val_accuracy: 0.9700\n",
            "Epoch 42/100\n",
            "7/7 [==============================] - 4s 562ms/step - loss: 0.9920 - accuracy: 0.9375 - val_loss: 0.4605 - val_accuracy: 0.9700\n",
            "Epoch 43/100\n",
            "7/7 [==============================] - 4s 555ms/step - loss: 0.9777 - accuracy: 0.9275 - val_loss: 0.4454 - val_accuracy: 0.9700\n",
            "Epoch 44/100\n",
            "7/7 [==============================] - 4s 550ms/step - loss: 0.9474 - accuracy: 0.9400 - val_loss: 0.4315 - val_accuracy: 0.9700\n",
            "Epoch 45/100\n",
            "7/7 [==============================] - 4s 561ms/step - loss: 0.9102 - accuracy: 0.9425 - val_loss: 0.4171 - val_accuracy: 0.9900\n",
            "Epoch 46/100\n",
            "7/7 [==============================] - 4s 577ms/step - loss: 0.7502 - accuracy: 0.9550 - val_loss: 0.4046 - val_accuracy: 0.9900\n",
            "Epoch 47/100\n",
            "7/7 [==============================] - 4s 565ms/step - loss: 0.8410 - accuracy: 0.9500 - val_loss: 0.3893 - val_accuracy: 0.9900\n",
            "Epoch 48/100\n",
            "7/7 [==============================] - 4s 579ms/step - loss: 0.6497 - accuracy: 0.9700 - val_loss: 0.3756 - val_accuracy: 0.9900\n",
            "Epoch 49/100\n",
            "7/7 [==============================] - 4s 564ms/step - loss: 0.6458 - accuracy: 0.9725 - val_loss: 0.3639 - val_accuracy: 0.9900\n",
            "Epoch 50/100\n",
            "7/7 [==============================] - 4s 566ms/step - loss: 0.6825 - accuracy: 0.9600 - val_loss: 0.3536 - val_accuracy: 0.9900\n",
            "Epoch 51/100\n",
            "7/7 [==============================] - 4s 568ms/step - loss: 0.5647 - accuracy: 0.9700 - val_loss: 0.3432 - val_accuracy: 0.9900\n",
            "Epoch 52/100\n",
            "7/7 [==============================] - 4s 567ms/step - loss: 0.5541 - accuracy: 0.9675 - val_loss: 0.3340 - val_accuracy: 0.9900\n",
            "Epoch 53/100\n",
            "7/7 [==============================] - 4s 571ms/step - loss: 0.6539 - accuracy: 0.9800 - val_loss: 0.3215 - val_accuracy: 1.0000\n",
            "Epoch 54/100\n",
            "7/7 [==============================] - 4s 579ms/step - loss: 0.5297 - accuracy: 0.9725 - val_loss: 0.3082 - val_accuracy: 1.0000\n",
            "Epoch 55/100\n",
            "7/7 [==============================] - 4s 574ms/step - loss: 0.4366 - accuracy: 0.9775 - val_loss: 0.2962 - val_accuracy: 1.0000\n",
            "Epoch 56/100\n",
            "7/7 [==============================] - 4s 572ms/step - loss: 0.3877 - accuracy: 0.9875 - val_loss: 0.2890 - val_accuracy: 1.0000\n",
            "Epoch 57/100\n",
            "7/7 [==============================] - 4s 556ms/step - loss: 0.4047 - accuracy: 0.9900 - val_loss: 0.2813 - val_accuracy: 1.0000\n",
            "Epoch 58/100\n",
            "7/7 [==============================] - 4s 561ms/step - loss: 0.3805 - accuracy: 0.9850 - val_loss: 0.2756 - val_accuracy: 1.0000\n",
            "Epoch 59/100\n",
            "7/7 [==============================] - 4s 569ms/step - loss: 0.3260 - accuracy: 0.9875 - val_loss: 0.2697 - val_accuracy: 1.0000\n",
            "Epoch 60/100\n",
            "7/7 [==============================] - 4s 563ms/step - loss: 0.3347 - accuracy: 0.9875 - val_loss: 0.2643 - val_accuracy: 1.0000\n",
            "Epoch 61/100\n",
            "7/7 [==============================] - 4s 574ms/step - loss: 0.3819 - accuracy: 0.9875 - val_loss: 0.2553 - val_accuracy: 1.0000\n",
            "Epoch 62/100\n",
            "7/7 [==============================] - 4s 564ms/step - loss: 0.2819 - accuracy: 0.9925 - val_loss: 0.2501 - val_accuracy: 1.0000\n",
            "Epoch 63/100\n",
            "7/7 [==============================] - 4s 577ms/step - loss: 0.2898 - accuracy: 0.9900 - val_loss: 0.2467 - val_accuracy: 1.0000\n",
            "Epoch 64/100\n",
            "7/7 [==============================] - 4s 548ms/step - loss: 0.2666 - accuracy: 0.9950 - val_loss: 0.2443 - val_accuracy: 1.0000\n",
            "Epoch 65/100\n",
            "7/7 [==============================] - 4s 563ms/step - loss: 0.3160 - accuracy: 0.9925 - val_loss: 0.2403 - val_accuracy: 1.0000\n",
            "Epoch 66/100\n",
            "7/7 [==============================] - 4s 567ms/step - loss: 0.2817 - accuracy: 0.9925 - val_loss: 0.2342 - val_accuracy: 1.0000\n",
            "Epoch 67/100\n",
            "7/7 [==============================] - 4s 573ms/step - loss: 0.2278 - accuracy: 0.9950 - val_loss: 0.2261 - val_accuracy: 1.0000\n",
            "Epoch 68/100\n",
            "7/7 [==============================] - 4s 562ms/step - loss: 0.2443 - accuracy: 0.9925 - val_loss: 0.2195 - val_accuracy: 1.0000\n",
            "Epoch 69/100\n",
            "7/7 [==============================] - 4s 556ms/step - loss: 0.2363 - accuracy: 0.9925 - val_loss: 0.2109 - val_accuracy: 1.0000\n",
            "Epoch 70/100\n",
            "7/7 [==============================] - 4s 565ms/step - loss: 0.2076 - accuracy: 0.9950 - val_loss: 0.2042 - val_accuracy: 1.0000\n",
            "Epoch 71/100\n",
            "7/7 [==============================] - 4s 552ms/step - loss: 0.1978 - accuracy: 0.9950 - val_loss: 0.1981 - val_accuracy: 1.0000\n",
            "Epoch 72/100\n",
            "7/7 [==============================] - 4s 565ms/step - loss: 0.1920 - accuracy: 0.9950 - val_loss: 0.1911 - val_accuracy: 1.0000\n",
            "Epoch 73/100\n",
            "7/7 [==============================] - 4s 554ms/step - loss: 0.2164 - accuracy: 0.9925 - val_loss: 0.1858 - val_accuracy: 1.0000\n",
            "Epoch 74/100\n",
            "7/7 [==============================] - 4s 573ms/step - loss: 0.1876 - accuracy: 0.9975 - val_loss: 0.1810 - val_accuracy: 1.0000\n",
            "Epoch 75/100\n",
            "7/7 [==============================] - 4s 564ms/step - loss: 0.1772 - accuracy: 0.9975 - val_loss: 0.1754 - val_accuracy: 1.0000\n",
            "Epoch 76/100\n",
            "7/7 [==============================] - 4s 559ms/step - loss: 0.1412 - accuracy: 0.9975 - val_loss: 0.1701 - val_accuracy: 1.0000\n",
            "Epoch 77/100\n",
            "7/7 [==============================] - 4s 561ms/step - loss: 0.1466 - accuracy: 0.9975 - val_loss: 0.1645 - val_accuracy: 1.0000\n",
            "Epoch 78/100\n",
            "7/7 [==============================] - 4s 569ms/step - loss: 0.1906 - accuracy: 0.9975 - val_loss: 0.1583 - val_accuracy: 1.0000\n",
            "Epoch 79/100\n",
            "7/7 [==============================] - 4s 579ms/step - loss: 0.1227 - accuracy: 0.9975 - val_loss: 0.1541 - val_accuracy: 1.0000\n",
            "Epoch 80/100\n",
            "7/7 [==============================] - 4s 560ms/step - loss: 0.1346 - accuracy: 0.9975 - val_loss: 0.1509 - val_accuracy: 1.0000\n",
            "Epoch 81/100\n",
            "7/7 [==============================] - 4s 566ms/step - loss: 0.1448 - accuracy: 0.9975 - val_loss: 0.1480 - val_accuracy: 1.0000\n",
            "Epoch 82/100\n",
            "7/7 [==============================] - 4s 575ms/step - loss: 0.1355 - accuracy: 0.9950 - val_loss: 0.1461 - val_accuracy: 1.0000\n",
            "Epoch 83/100\n",
            "7/7 [==============================] - 4s 565ms/step - loss: 0.1214 - accuracy: 1.0000 - val_loss: 0.1431 - val_accuracy: 1.0000\n",
            "Epoch 84/100\n",
            "7/7 [==============================] - 4s 560ms/step - loss: 0.1031 - accuracy: 0.9975 - val_loss: 0.1413 - val_accuracy: 1.0000\n",
            "Epoch 85/100\n",
            "7/7 [==============================] - 4s 563ms/step - loss: 0.1329 - accuracy: 0.9975 - val_loss: 0.1380 - val_accuracy: 1.0000\n",
            "Epoch 86/100\n",
            "7/7 [==============================] - 4s 559ms/step - loss: 0.1179 - accuracy: 0.9975 - val_loss: 0.1351 - val_accuracy: 1.0000\n",
            "Epoch 87/100\n",
            "7/7 [==============================] - 4s 568ms/step - loss: 0.1129 - accuracy: 1.0000 - val_loss: 0.1323 - val_accuracy: 1.0000\n",
            "Epoch 88/100\n",
            "7/7 [==============================] - 4s 563ms/step - loss: 0.0916 - accuracy: 1.0000 - val_loss: 0.1296 - val_accuracy: 1.0000\n",
            "Epoch 89/100\n",
            "7/7 [==============================] - 4s 563ms/step - loss: 0.1206 - accuracy: 0.9975 - val_loss: 0.1264 - val_accuracy: 1.0000\n",
            "Epoch 90/100\n",
            "7/7 [==============================] - 4s 561ms/step - loss: 0.1150 - accuracy: 1.0000 - val_loss: 0.1229 - val_accuracy: 1.0000\n",
            "Epoch 91/100\n",
            "7/7 [==============================] - 4s 564ms/step - loss: 0.0693 - accuracy: 1.0000 - val_loss: 0.1194 - val_accuracy: 1.0000\n",
            "Epoch 92/100\n",
            "7/7 [==============================] - 4s 572ms/step - loss: 0.1074 - accuracy: 0.9975 - val_loss: 0.1167 - val_accuracy: 1.0000\n",
            "Epoch 93/100\n",
            "7/7 [==============================] - 4s 583ms/step - loss: 0.0951 - accuracy: 0.9950 - val_loss: 0.1150 - val_accuracy: 1.0000\n",
            "Epoch 94/100\n",
            "7/7 [==============================] - 4s 564ms/step - loss: 0.0620 - accuracy: 1.0000 - val_loss: 0.1141 - val_accuracy: 1.0000\n",
            "Epoch 95/100\n",
            "7/7 [==============================] - 4s 564ms/step - loss: 0.1269 - accuracy: 0.9950 - val_loss: 0.1120 - val_accuracy: 1.0000\n",
            "Epoch 96/100\n",
            "7/7 [==============================] - 4s 554ms/step - loss: 0.1060 - accuracy: 0.9900 - val_loss: 0.1104 - val_accuracy: 1.0000\n",
            "Epoch 97/100\n",
            "7/7 [==============================] - 4s 579ms/step - loss: 0.0521 - accuracy: 1.0000 - val_loss: 0.1098 - val_accuracy: 1.0000\n",
            "Epoch 98/100\n",
            "7/7 [==============================] - 4s 562ms/step - loss: 0.0775 - accuracy: 1.0000 - val_loss: 0.1076 - val_accuracy: 1.0000\n",
            "Epoch 99/100\n",
            "7/7 [==============================] - 4s 570ms/step - loss: 0.0861 - accuracy: 1.0000 - val_loss: 0.1050 - val_accuracy: 1.0000\n",
            "Epoch 100/100\n",
            "7/7 [==============================] - 4s 584ms/step - loss: 0.0885 - accuracy: 0.9975 - val_loss: 0.1036 - val_accuracy: 1.0000\n"
          ]
        }
      ]
    },
    {
      "cell_type": "code",
      "source": [
        "plot_hist(history)"
      ],
      "metadata": {
        "colab": {
          "base_uri": "https://localhost:8080/",
          "height": 573
        },
        "id": "KHHQ2RI6B2EH",
        "outputId": "550b903c-1ef0-41aa-e5c1-c644554c0515"
      },
      "execution_count": 10,
      "outputs": [
        {
          "output_type": "display_data",
          "data": {
            "text/plain": [
              "<Figure size 432x288 with 1 Axes>"
            ],
            "image/png": "[encoded data removed]"
          },
          "metadata": {
            "needs_background": "light"
          }
        },
        {
          "output_type": "display_data",
          "data": {
            "text/plain": [
              "<Figure size 432x288 with 1 Axes>"
            ],
            "image/png": "[encoded data removed]"
          },
          "metadata": {
            "needs_background": "light"
          }
        }
      ]
    }
  ]
}
